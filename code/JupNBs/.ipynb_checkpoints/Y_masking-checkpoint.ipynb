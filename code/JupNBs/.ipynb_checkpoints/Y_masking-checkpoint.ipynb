{
 "cells": [
  {
   "cell_type": "markdown",
   "id": "0e61c1d9-d2fe-4bb5-8602-1480139fdb20",
   "metadata": {},
   "source": [
    "## Masking the Y in the Stickleback assembly\n",
    "\n",
    "- I want to be able to call SNPs within and between samples on the sex chromosome when I am analysing the Alaskan lake data. . . . \n",
    "- But this is problematic due to interspersed regions of X/Y homology and hemizygosity of due to losses on the Y. \n",
    "\n",
    "- In H"
   ]
  }
 ],
 "metadata": {
  "kernelspec": {
   "display_name": "Python 3 (ipykernel)",
   "language": "python",
   "name": "python3"
  },
  "language_info": {
   "codemirror_mode": {
    "name": "ipython",
    "version": 3
   },
   "file_extension": ".py",
   "mimetype": "text/x-python",
   "name": "python",
   "nbconvert_exporter": "python",
   "pygments_lexer": "ipython3",
   "version": "3.9.13"
  }
 },
 "nbformat": 4,
 "nbformat_minor": 5
}
